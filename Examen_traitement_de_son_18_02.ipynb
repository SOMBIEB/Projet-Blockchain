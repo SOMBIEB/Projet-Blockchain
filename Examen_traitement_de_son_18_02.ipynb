{
  "nbformat": 4,
  "nbformat_minor": 0,
  "metadata": {
    "colab": {
      "provenance": [],
      "authorship_tag": "ABX9TyPRQ7gUgBUsXrb+NW/mHqRW",
      "include_colab_link": true
    },
    "kernelspec": {
      "name": "python3",
      "display_name": "Python 3"
    },
    "language_info": {
      "name": "python"
    }
  },
  "cells": [
    {
      "cell_type": "markdown",
      "metadata": {
        "id": "view-in-github",
        "colab_type": "text"
      },
      "source": [
        "<a href=\"https://colab.research.google.com/github/SOMBIEB/Projet-Blockchain/blob/main/Examen_traitement_de_son_18_02.ipynb\" target=\"_parent\"><img src=\"https://colab.research.google.com/assets/colab-badge.svg\" alt=\"Open In Colab\"/></a>"
      ]
    },
    {
      "cell_type": "code",
      "execution_count": 1,
      "metadata": {
        "colab": {
          "base_uri": "https://localhost:8080/"
        },
        "id": "ow8_fzR0LXfW",
        "outputId": "b8a7e164-1e7e-4c31-9e50-ba4fbe2f303f"
      },
      "outputs": [
        {
          "output_type": "stream",
          "name": "stdout",
          "text": [
            "Epoch 0, Loss: 0.4950801269886647\n",
            "Epoch 100, Loss: 0.0019306221366063678\n",
            "Epoch 200, Loss: 0.0018560829943934248\n",
            "Epoch 300, Loss: 0.0017983644128835392\n",
            "Epoch 400, Loss: 0.0017509717991182631\n",
            "Epoch 500, Loss: 0.0017101265202786715\n",
            "Epoch 600, Loss: 0.0016735738574915906\n",
            "Epoch 700, Loss: 0.0016399274415423923\n",
            "Epoch 800, Loss: 0.0016083116623130521\n",
            "Epoch 900, Loss: 0.0015781647042173964\n"
          ]
        }
      ],
      "source": [
        "import numpy as np\n",
        "\n",
        "# Génération de données factices (bruitées et propres)\n",
        "def generate_data(num_samples=1000, sequence_length=100, sigma=0.5, A=1, f=50):#sigma,A=1,f=50 sont des valeurs prises aleatoirement\n",
        "    # Génère des signaux audio bruités et leurs versions propres.\n",
        "    # Signal propre : onde sinusoïdale simulant un son pur.\n",
        "    # Bruit : bruit gaussien ajouté au signal propre.\n",
        "\n",
        " #TODO Signal sinusoïdal ,Bruit gaussien,Retourne les signaux bruités et  TODO propres\n",
        "\n",
        "    t = np.linspace(0, 1, sequence_length)#Crée un tableau NumPy t représentant le temps, allant de 0 à 1, divisé en sequence_length points.\n",
        "    clean_audio = A * np.sin(2 * np.pi * f * t)  # Signal sinusoïdal de fréquence f et d'amplitude A\n",
        "    clean_audio = np.tile(clean_audio, (num_samples, 1))  # Répéter le signal pour chaque échantillon\n",
        "    noise = np.random.normal(0, sigma, clean_audio.shape)  # Bruit gaussien de moyenne nulle et d'écart-type sigma\n",
        "    noisy_audio = clean_audio + noise  # Signal bruité\n",
        "    return noisy_audio, clean_audio  # Retourne les signaux bruités et propres\n",
        "\n",
        "# TODO: Implémentez la classe du modèle de correction audio\n",
        "class AudioDenoiser:#Définit une classe nommée AudioDenoiser qui représente le modèle de débruitage audio.\n",
        "    def __init__(self, input_size, hidden_size, output_size):# initialise les attributs du modele\n",
        "\n",
        "       # Initialise les poids du modèle.\n",
        "\n",
        "        self.input_size = input_size\n",
        "        self.hidden_size = hidden_size\n",
        "        self.output_size = output_size\n",
        "\n",
        "        # TODO: Initialisez les poids et biais avec des valeurs aléatoires\n",
        "\n",
        "        # Initialisez les poids et biais avec des valeurs aléatoires\n",
        "        self.W1 = np.random.randn(input_size, hidden_size) * 0.01\n",
        "        self.b1 = np.zeros((1, hidden_size))\n",
        "        self.W2 = np.random.randn(hidden_size, output_size) * 0.01\n",
        "        self.b2 = np.zeros((1, output_size))\n",
        "\n",
        "    def forward(self, x):\n",
        "\n",
        "        #Propagation avant du réseau.\n",
        "\n",
        "         # TODO: Implémentez la propagation avant avec activation ReLU\n",
        "\n",
        "        self.hidden_layer = np.maximum(0, np.dot(x, self.W1) + self.b1)  # Calcul de la sortie de couche cachée avec ReLU activation\n",
        "        output_layer = np.dot(self.hidden_layer, self.W2) + self.b2 # calcul de la sortie finale du reseau en utilisant  la Couche cachée\n",
        "        return output_layer\n",
        "\n",
        "    def backward(self, x, y, output, learning_rate=0.01):\n",
        "\n",
        "        #Rétropropagation pour mettre à jour les poids du réseau.\n",
        "\n",
        "        m = x.shape[0]\n",
        "\n",
        "        # TODO: Implémentez les gradients et la mise à jour des poids\n",
        "\n",
        "        d_output = (output - y) / (2*m) # calcul de l'erreur de la sortie en comparant l'output et les vrais valeurs\n",
        "        d_W2 = np.dot(self.hidden_layer.T, d_output) # Calcule le gradient des biais de la couche de sortie.\n",
        "        d_b2 = np.sum(d_output, axis=0, keepdims=True)\n",
        "        d_hidden = np.dot(d_output, self.W2.T) * (self.hidden_layer > 0) # radient de la couche de sortie avec Relu\n",
        "        d_W1 = np.dot(x.T, d_hidden)\n",
        "        d_b1 = np.sum(d_hidden, axis=0, keepdims=True)\n",
        "\n",
        "        # Mise à jour des poids\n",
        "        self.W1 -= learning_rate * d_W1\n",
        "        self.b1 -= learning_rate * d_b1\n",
        "        self.W2 -= learning_rate * d_W2\n",
        "        self.b2 -= learning_rate * d_b2\n",
        "\n",
        "    def train(self, x_train, y_train, epochs=1000, learning_rate=0.01):\n",
        "\n",
        "        #Entraîne le modèle avec les données fournies.\n",
        "\n",
        "        for epoch in range(epochs):\n",
        "            output = self.forward(x_train)\n",
        "            self.backward(x_train, y_train, output, learning_rate)\n",
        "\n",
        "            if epoch % 100 == 0:\n",
        "                # Calculez et affichez la loss (erreur quadratique moyenne)\n",
        "                loss = np.mean((output - y_train) ** 2)\n",
        "                print(f\"Epoch {epoch}, Loss: {loss}\")\n",
        "\n",
        "# TODO: Génération des données d'entraînement\n",
        "x_train, y_train = generate_data()\n",
        "\n",
        "# TODO: Initialisation du modèle\n",
        "model = AudioDenoiser(input_size=100, hidden_size=50, output_size=100)\n",
        "\n",
        "# TODO: Entraînement du modèle\n",
        "model.train(x_train, y_train)\n",
        "\n",
        "\n"
      ]
    },
    {
      "cell_type": "code",
      "source": [
        "# l'apprentissage du model s'ameliore au fur et a mesure des epoch donc je peux conclure que plus il ya d'epoch plus le model s'ameliore .Mais cela ne veut pas dire que si on continu on  aura toujour une amelioration car j'ai j'ai essayer sur 10mille et le loss a augmenté jusqu'à 0,5.Donc 1000 semble raisonable car on une meilleure performance."
      ],
      "metadata": {
        "id": "tmbyx3Q7N8nU"
      },
      "execution_count": null,
      "outputs": []
    }
  ]
}